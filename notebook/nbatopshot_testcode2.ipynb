{
 "cells": [
  {
   "cell_type": "markdown",
   "metadata": {},
   "source": [
    "# This notebook is for testing lines of code. Use Onetopshop.py to scrap the web."
   ]
  },
  {
   "cell_type": "code",
   "execution_count": 1,
   "metadata": {},
   "outputs": [],
   "source": [
    "import os\n",
    "from dotenv import load_dotenv\n",
    "from splinter import Browser\n",
    "import time\n",
    "from selenium import webdriver\n",
    "from bs4 import BeautifulSoup as bs"
   ]
  },
  {
   "cell_type": "code",
   "execution_count": 3,
   "metadata": {},
   "outputs": [],
   "source": [
    "# Create a new folder each time the script is run, named with the current date and time\n",
    "seconds = time.time()\n",
    "today=time.ctime(seconds)\n",
    "date = today.replace(\" \", \"_\")\n",
    "outputfolder = date.replace(\":\", \".\")\n",
    "\n",
    "# Create csv folder in case it doesn't exist.\n",
    "parent_dir = os.getcwd()\n",
    "outputPath = os.path.join(parent_dir, outputfolder)\n",
    "try:\n",
    "    os.mkdir(outputPath)\n",
    "except:\n",
    "    print('Folder already exists.')"
   ]
  },
  {
   "cell_type": "code",
   "execution_count": 5,
   "metadata": {},
   "outputs": [],
   "source": [
    "# Load env to retrieve hidden variables\n",
    "load_dotenv()\n",
    "chrome_path=os.getenv('chromedriver')\n",
    "firefox_path=os.getenv('geckodriver')\n",
    "User=os.getenv('funds_User')\n",
    "Password=os.getenv('funds_Pass')\n",
    "exPath={1: chrome_path, 2: firefox_path}"
   ]
  },
  {
   "cell_type": "code",
   "execution_count": 6,
   "metadata": {},
   "outputs": [],
   "source": [
    "# URL to scrap:\n",
    "loginURL='https://www.addmorefunds.com/login/'\n",
    "fundsURL='https://www.addmorefunds.com/nft/nba-top-shot/'"
   ]
  },
  {
   "cell_type": "code",
   "execution_count": 7,
   "metadata": {},
   "outputs": [],
   "source": [
    "# Function to initilize Chrome browser\n",
    "def initChrome(executablePath, outputPath):\n",
    "    expath = {\"executable_path\": executablePath}\n",
    "    options = webdriver.ChromeOptions()\n",
    "    prefs = {\n",
    "        \"download.default_directory\" : outputPath,\n",
    "        \"download.directory_upgrade\": \"true\",\n",
    "        \"download.prompt_for_download\": \"false\",\n",
    "        \"disable-popup-blocking\": \"true\"\n",
    "    }\n",
    "    options.add_experimental_option(\"prefs\", prefs)\n",
    "    options.add_argument(\"--disable-infobars\")\n",
    "    options.add_argument(\"--start-maximized\")\n",
    "    \n",
    "    return Browser(\"chrome\", **expath, headless=False, options=options)"
   ]
  },
  {
   "cell_type": "code",
   "execution_count": 56,
   "metadata": {},
   "outputs": [],
   "source": [
    "# Function to initilize Firefox browser\n",
    "def initFirefox(executablePath, outputPath):\n",
    "    expath = {\"executable_path\": executablePath}\n",
    "    profile = webdriver.FirefoxProfile()\n",
    "    profile.update_preferences()\n",
    "    profile.set_preference(\"browser.download.folderList\", 2)\n",
    "    profile.set_preference(\"browser.download.manager.showWhenStarting\", False)\n",
    "    profile.set_preference(\"browser.download.dir\", outputPath)\n",
    "    profile.set_preference(\"browser.helperApps.neverAsk.saveToDisk\", \n",
    "                           \"text/plain,text/csv,application/csv,application/download,application/octet-stream\")\n",
    "    profile.set_preference(\"browser.download.manager.showAlertOnComplete\", False)\n",
    "    profile.set_preference(\"browser.download.panel.shown\", False)\n",
    "#     profile.update_preferences()\n",
    "    return Browser(\"firefox\", profile, **expath, headless=False)"
   ]
  },
  {
   "cell_type": "code",
   "execution_count": 9,
   "metadata": {},
   "outputs": [],
   "source": [
    "# Log In function\n",
    "def fundsLogin(url,browser):\n",
    "    browser.visit(url)\n",
    "    browser.fill('username', User)\n",
    "    browser.fill('password', Password)\n",
    "    browser.find_by_value('Sign In').click() "
   ]
  },
  {
   "cell_type": "code",
   "execution_count": 59,
   "metadata": {},
   "outputs": [],
   "source": [
    "# Function to select the browser to initialize\n",
    "def initBrowser(exPath, downloadFolder):\n",
    "    browserType = {1: \"Chrome\", 2: \"Firefox\"}\n",
    "    driver = int(input('Which browser would you like to use (1: Chrome, 2: Firefox)? '))\n",
    "    if driver==1:\n",
    "        browser=initChrome(exPath[1], downloadFolder)\n",
    "        return browser\n",
    "    elif driver==2:\n",
    "        browser=initFirefox(exPath[2], downloadFolder)\n",
    "        return browser\n",
    "    else:\n",
    "        print('\\n\\nPlease enter the right option (1: Chrome, 2: Firefox). ')\n",
    "        initBrowser(exPath, downloadFolder)\n",
    "    "
   ]
  },
  {
   "cell_type": "code",
   "execution_count": 60,
   "metadata": {},
   "outputs": [
    {
     "name": "stdout",
     "output_type": "stream",
     "text": [
      "Which browser would you like to use (1: Chrome, 2: Firefox)? 2\n"
     ]
    }
   ],
   "source": [
    "browser=initBrowser(exPath, outputPath)"
   ]
  },
  {
   "cell_type": "code",
   "execution_count": 25,
   "metadata": {},
   "outputs": [],
   "source": [
    "# Function to download the CSVs\n",
    "def DownlowadCSV(browser, numpages):\n",
    "    target1='button[title=\"Click for sale history.\"]'\n",
    "    target2='button[title=\"Download CSV\"]'\n",
    "    target3='button[aria-label=\"Close\"]'\n",
    "    advancepage=browser.find_by_tag('div[class=\"text-left col-4\"]').find_by_tag('button[class=\"btn btn-secondary\"]').first\n",
    "    for page in range(1,numpages):\n",
    "        print(f'\\nStart downloads in page {page}\\n', flush=True)\n",
    "        if browser.is_element_visible_by_css(target1, wait_time=25):\n",
    "            sold_history=browser.find_by_css(target1)\n",
    "            for s in sold_history:\n",
    "                try:\n",
    "                    s.click()\n",
    "                    if browser.is_element_visible_by_css(target2, wait_time=25):\n",
    "                        try:\n",
    "                            export=browser.find_by_css(target2)\n",
    "                            export.mouse_over()\n",
    "                            export.click()\n",
    "                            time.sleep(2)\n",
    "                        except Exception as e:\n",
    "                            print(f'\"Export\" element error on page {page}.\\n{e}', flush=True)\n",
    "                    else:\n",
    "                        print(f'\"Export\" element not visible on page {page}.\\n', flush=True)\n",
    "                    if browser.is_element_visible_by_css(target3, wait_time=25):\n",
    "                        try: \n",
    "                            c=browser.find_by_css(target3)\n",
    "                            c.mouse_over()\n",
    "                            c.click()\n",
    "                            time.sleep(1)\n",
    "                        except Exception as e:\n",
    "                            print(f'\"Close element error on page {page}:\\n{e}', flush=True)\n",
    "                    else:\n",
    "                        print(f'\"Close\" element not visible on page {page}.\\n', flush=True)\n",
    "                               \n",
    "                except Exception as e:   \n",
    "                    print(f'\"Sold History\" element error on page {page}.\\n{e}', flush=True)\n",
    "                        \n",
    "            print(f'Finished downloads in page {page}\\n', flush=True)                      \n",
    "            advancepage.click()            \n",
    "            time.sleep(1)\n",
    "            browser.execute_script(\"window.scrollTo(0, 0);\")\n",
    "            if (page % 2) == 0:\n",
    "                time.sleep(4)\n",
    "            else:\n",
    "                time.sleep(2) "
   ]
  },
  {
   "cell_type": "code",
   "execution_count": 26,
   "metadata": {},
   "outputs": [],
   "source": [
    "# Function to initialize the scrap\n",
    "def NBATopShot(url1, url2, exPath):\n",
    "    browser = initBrowser(exPath, outputPath)\n",
    "    fundsLogin(url1, browser)\n",
    "    time.sleep(1)\n",
    "    browser.visit(url2)\n",
    "    time.sleep(1)\n",
    "    numpages=Page(browser)\n",
    "#     numpages=15\n",
    "    time.sleep(1)\n",
    "    start=time.time()\n",
    "    DownlowadCSV(browser, numpages)\n",
    "    end=time.time()\n",
    "    totalseconds=end-start\n",
    "    total=time.gmtime(totalseconds)       \n",
    "    time.sleep(1)\n",
    "    js = f'var message; message= \"Download Complete in {total[3]} hours {total[4]} minutes {total[5]} seconds\", window.alert(message);'\n",
    "    time.sleep(1)           \n",
    "    browser.execute_script(js)"
   ]
  },
  {
   "cell_type": "code",
   "execution_count": null,
   "metadata": {},
   "outputs": [],
   "source": [
    "OneTopShot(loginURL, fundsURL)\n",
    "    "
   ]
  },
  {
   "cell_type": "code",
   "execution_count": 61,
   "metadata": {},
   "outputs": [],
   "source": [
    "browser.quit()"
   ]
  },
  {
   "cell_type": "code",
   "execution_count": null,
   "metadata": {},
   "outputs": [],
   "source": []
  }
 ],
 "metadata": {
  "kernelspec": {
   "display_name": "Python 3",
   "language": "python",
   "name": "python3"
  },
  "language_info": {
   "codemirror_mode": {
    "name": "ipython",
    "version": 3
   },
   "file_extension": ".py",
   "mimetype": "text/x-python",
   "name": "python",
   "nbconvert_exporter": "python",
   "pygments_lexer": "ipython3",
   "version": "3.6.10"
  }
 },
 "nbformat": 4,
 "nbformat_minor": 4
}
