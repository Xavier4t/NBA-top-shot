{
 "cells": [
  {
   "cell_type": "markdown",
   "metadata": {},
   "source": [
    "# This notebook is for testing lines of code. Use Onetopshop.py to scrap the web."
   ]
  },
  {
   "cell_type": "code",
   "execution_count": 1,
   "metadata": {},
   "outputs": [],
   "source": [
    "import os\n",
    "from dotenv import load_dotenv\n",
    "from splinter import Browser\n",
    "import time\n",
    "from selenium import webdriver\n",
    "from bs4 import BeautifulSoup as bs"
   ]
  },
  {
   "cell_type": "code",
   "execution_count": 2,
   "metadata": {},
   "outputs": [],
   "source": [
    "seconds = time.time()\n",
    "today=time.ctime(seconds)\n",
    "date = today.replace(\" \", \"_\")\n",
    "outputfolder = date.replace(\":\", \".\")"
   ]
  },
  {
   "cell_type": "code",
   "execution_count": 3,
   "metadata": {},
   "outputs": [],
   "source": [
    "# Create output folder for the csv files, a unique folder name based on the current time.\n",
    "parent_dir = os.getcwd()\n",
    "outputPath = os.path.join(parent_dir, outputfolder)\n",
    "try:\n",
    "    os.mkdir(outputPath)\n",
    "except:\n",
    "    print('Folder already exists.')"
   ]
  },
  {
   "cell_type": "code",
   "execution_count": 4,
   "metadata": {},
   "outputs": [],
   "source": [
    "load_dotenv()\n",
    "executable_path=os.getenv('chromedriver')\n",
    "executable_path2=os.getenv('geckodriver')\n",
    "User=os.getenv('funds_User')\n",
    "Password=os.getenv('funds_Pass')"
   ]
  },
  {
   "cell_type": "code",
   "execution_count": 13,
   "metadata": {},
   "outputs": [
    {
     "name": "stdout",
     "output_type": "stream",
     "text": [
      "C:\\Users\\franc\\.wdm\\drivers\\geckodriver\\geckodriver.exe\n"
     ]
    }
   ],
   "source": [
    "print(executable_path2)"
   ]
  },
  {
   "cell_type": "code",
   "execution_count": 5,
   "metadata": {},
   "outputs": [],
   "source": [
    "loginURL='https://www.addmorefunds.com/login/'\n",
    "fundsURL='https://www.addmorefunds.com/nft/nba-top-shot/'"
   ]
  },
  {
   "cell_type": "code",
   "execution_count": 6,
   "metadata": {},
   "outputs": [],
   "source": [
    "# Function to initilize browser\n",
    "def initBrowser(exPath, outputPath, headless=False):\n",
    "    exPath = {\"executable_path\": exPath}\n",
    "    options = webdriver.ChromeOptions()\n",
    "    prefs = {\n",
    "        \"download.default_directory\" : outputPath,\n",
    "        \"download.directory_upgrade\": \"true\",\n",
    "        \"download.prompt_for_download\": \"false\",\n",
    "        \"disable-popup-blocking\": \"true\"\n",
    "\n",
    "    }\n",
    "    options.add_experimental_option(\"prefs\", prefs)\n",
    "    options.add_argument(\"--disable-infobars\")\n",
    "    options.add_argument(\"--start-maximized\")\n",
    "    \n",
    "    return Browser(\"chrome\", **exPath, headless=headless, options=options)"
   ]
  },
  {
   "cell_type": "code",
   "execution_count": 47,
   "metadata": {},
   "outputs": [],
   "source": [
    "# Function to initilize browser\n",
    "def initBrowser2(exPath, outputPath):\n",
    "    exPath = {\"executable_path\": exPath}\n",
    "    profile = webdriver.FirefoxProfile()\n",
    "    profile.set_preference(\"browser.download.folderList\", 2)\n",
    "    profile.set_preference(\"browser.download.manager.showWhenStarting\", False)\n",
    "    profile.set_preference(\"browser.download.dir\", outputPath)\n",
    "    profile.set_preference(\"browser.helperApps.neverAsk.saveToDisk\", \"application/x-gzip\")\n",
    "    \n",
    "    return Browser(\"firefox\", **exPath, headless=False, profile=profile)"
   ]
  },
  {
   "cell_type": "code",
   "execution_count": 9,
   "metadata": {},
   "outputs": [],
   "source": [
    "# Log In function\n",
    "def fundsLogin(url,browser):\n",
    "    browser.visit(url)\n",
    "    browser.fill('username', User)\n",
    "    browser.fill('password', Password)\n",
    "    browser.find_by_value('Sign In').click() "
   ]
  },
  {
   "cell_type": "code",
   "execution_count": 47,
   "metadata": {},
   "outputs": [],
   "source": [
    "# download test function\n",
    "# def csvDownload(soldHistory, target2, target3):\n",
    "#     soldHistory.click()\n",
    "#     exportfile=browser.find_by_css(target2)\n",
    "#     exportfile.mouse_over()\n",
    "#     exportfile.click()\n",
    "#     close = browser.find_by_css(target3)\n",
    "#     close.mouse_over()\n",
    "#     close.click()"
   ]
  },
  {
   "cell_type": "code",
   "execution_count": 12,
   "metadata": {},
   "outputs": [],
   "source": [
    "browser = initBrowser(executable_path, outputPath, False)"
   ]
  },
  {
   "cell_type": "code",
   "execution_count": 48,
   "metadata": {},
   "outputs": [
    {
     "ename": "TypeError",
     "evalue": "listdir: path should be string, bytes, os.PathLike or None, not FirefoxProfile",
     "output_type": "error",
     "traceback": [
      "\u001b[1;31m---------------------------------------------------------------------------\u001b[0m",
      "\u001b[1;31mTypeError\u001b[0m                                 Traceback (most recent call last)",
      "\u001b[1;32m<ipython-input-48-30701d9e58b2>\u001b[0m in \u001b[0;36m<module>\u001b[1;34m\u001b[0m\n\u001b[1;32m----> 1\u001b[1;33m \u001b[0mbrowser\u001b[0m \u001b[1;33m=\u001b[0m \u001b[0minitBrowser2\u001b[0m\u001b[1;33m(\u001b[0m\u001b[0mexecutable_path2\u001b[0m\u001b[1;33m,\u001b[0m \u001b[0moutputPath\u001b[0m\u001b[1;33m)\u001b[0m\u001b[1;33m\u001b[0m\u001b[1;33m\u001b[0m\u001b[0m\n\u001b[0m",
      "\u001b[1;32m<ipython-input-47-6e14b65293fc>\u001b[0m in \u001b[0;36minitBrowser2\u001b[1;34m(exPath, outputPath)\u001b[0m\n\u001b[0;32m      8\u001b[0m     \u001b[0mprofile\u001b[0m\u001b[1;33m.\u001b[0m\u001b[0mset_preference\u001b[0m\u001b[1;33m(\u001b[0m\u001b[1;34m\"browser.helperApps.neverAsk.saveToDisk\"\u001b[0m\u001b[1;33m,\u001b[0m \u001b[1;34m\"application/x-gzip\"\u001b[0m\u001b[1;33m)\u001b[0m\u001b[1;33m\u001b[0m\u001b[1;33m\u001b[0m\u001b[0m\n\u001b[0;32m      9\u001b[0m \u001b[1;33m\u001b[0m\u001b[0m\n\u001b[1;32m---> 10\u001b[1;33m     \u001b[1;32mreturn\u001b[0m \u001b[0mBrowser\u001b[0m\u001b[1;33m(\u001b[0m\u001b[1;34m\"firefox\"\u001b[0m\u001b[1;33m,\u001b[0m \u001b[1;33m**\u001b[0m\u001b[0mexPath\u001b[0m\u001b[1;33m,\u001b[0m \u001b[0mheadless\u001b[0m\u001b[1;33m=\u001b[0m\u001b[1;32mFalse\u001b[0m\u001b[1;33m,\u001b[0m \u001b[0mprofile\u001b[0m\u001b[1;33m=\u001b[0m\u001b[0mprofile\u001b[0m\u001b[1;33m)\u001b[0m\u001b[1;33m\u001b[0m\u001b[1;33m\u001b[0m\u001b[0m\n\u001b[0m",
      "\u001b[1;32m~\\Anaconda3\\envs\\BootcampEnv\\lib\\site-packages\\splinter\\browser.py\u001b[0m in \u001b[0;36mBrowser\u001b[1;34m(driver_name, retry_count, *args, **kwargs)\u001b[0m\n\u001b[0;32m     90\u001b[0m         \u001b[1;32mraise\u001b[0m \u001b[0mDriverNotFoundError\u001b[0m\u001b[1;33m(\u001b[0m\u001b[1;34m\"No driver for %s\"\u001b[0m \u001b[1;33m%\u001b[0m \u001b[0mdriver_name\u001b[0m\u001b[1;33m)\u001b[0m\u001b[1;33m\u001b[0m\u001b[1;33m\u001b[0m\u001b[0m\n\u001b[0;32m     91\u001b[0m \u001b[1;33m\u001b[0m\u001b[0m\n\u001b[1;32m---> 92\u001b[1;33m     \u001b[1;32mreturn\u001b[0m \u001b[0mget_driver\u001b[0m\u001b[1;33m(\u001b[0m\u001b[0mdriver\u001b[0m\u001b[1;33m,\u001b[0m \u001b[1;33m*\u001b[0m\u001b[0margs\u001b[0m\u001b[1;33m,\u001b[0m \u001b[1;33m**\u001b[0m\u001b[0mkwargs\u001b[0m\u001b[1;33m)\u001b[0m\u001b[1;33m\u001b[0m\u001b[1;33m\u001b[0m\u001b[0m\n\u001b[0m",
      "\u001b[1;32m~\\Anaconda3\\envs\\BootcampEnv\\lib\\site-packages\\splinter\\browser.py\u001b[0m in \u001b[0;36mget_driver\u001b[1;34m(driver, retry_count, *args, **kwargs)\u001b[0m\n\u001b[0;32m     64\u001b[0m     \u001b[1;32mfor\u001b[0m \u001b[0m_\u001b[0m \u001b[1;32min\u001b[0m \u001b[0mrange\u001b[0m\u001b[1;33m(\u001b[0m\u001b[0mretry_count\u001b[0m\u001b[1;33m)\u001b[0m\u001b[1;33m:\u001b[0m\u001b[1;33m\u001b[0m\u001b[1;33m\u001b[0m\u001b[0m\n\u001b[0;32m     65\u001b[0m         \u001b[1;32mtry\u001b[0m\u001b[1;33m:\u001b[0m\u001b[1;33m\u001b[0m\u001b[1;33m\u001b[0m\u001b[0m\n\u001b[1;32m---> 66\u001b[1;33m             \u001b[1;32mreturn\u001b[0m \u001b[0mdriver\u001b[0m\u001b[1;33m(\u001b[0m\u001b[1;33m*\u001b[0m\u001b[0margs\u001b[0m\u001b[1;33m,\u001b[0m \u001b[1;33m**\u001b[0m\u001b[0mkwargs\u001b[0m\u001b[1;33m)\u001b[0m\u001b[1;33m\u001b[0m\u001b[1;33m\u001b[0m\u001b[0m\n\u001b[0m\u001b[0;32m     67\u001b[0m         \u001b[1;32mexcept\u001b[0m \u001b[1;33m(\u001b[0m\u001b[0mIOError\u001b[0m\u001b[1;33m,\u001b[0m \u001b[0mHTTPException\u001b[0m\u001b[1;33m,\u001b[0m \u001b[0mWebDriverException\u001b[0m\u001b[1;33m,\u001b[0m \u001b[0mMaxRetryError\u001b[0m\u001b[1;33m)\u001b[0m \u001b[1;32mas\u001b[0m \u001b[0me\u001b[0m\u001b[1;33m:\u001b[0m\u001b[1;33m\u001b[0m\u001b[1;33m\u001b[0m\u001b[0m\n\u001b[0;32m     68\u001b[0m             \u001b[0merr\u001b[0m \u001b[1;33m=\u001b[0m \u001b[0me\u001b[0m\u001b[1;33m\u001b[0m\u001b[1;33m\u001b[0m\u001b[0m\n",
      "\u001b[1;32m~\\Anaconda3\\envs\\BootcampEnv\\lib\\site-packages\\splinter\\driver\\webdriver\\firefox.py\u001b[0m in \u001b[0;36m__init__\u001b[1;34m(self, profile, extensions, user_agent, profile_preferences, fullscreen, wait_time, timeout, capabilities, headless, incognito, **kwargs)\u001b[0m\n\u001b[0;32m     36\u001b[0m     ):\n\u001b[0;32m     37\u001b[0m \u001b[1;33m\u001b[0m\u001b[0m\n\u001b[1;32m---> 38\u001b[1;33m         \u001b[0mfirefox_profile\u001b[0m \u001b[1;33m=\u001b[0m \u001b[0mFirefoxProfile\u001b[0m\u001b[1;33m(\u001b[0m\u001b[0mprofile\u001b[0m\u001b[1;33m)\u001b[0m\u001b[1;33m\u001b[0m\u001b[1;33m\u001b[0m\u001b[0m\n\u001b[0m\u001b[0;32m     39\u001b[0m         \u001b[0mfirefox_profile\u001b[0m\u001b[1;33m.\u001b[0m\u001b[0mset_preference\u001b[0m\u001b[1;33m(\u001b[0m\u001b[1;34m\"extensions.logging.enabled\"\u001b[0m\u001b[1;33m,\u001b[0m \u001b[1;32mFalse\u001b[0m\u001b[1;33m)\u001b[0m\u001b[1;33m\u001b[0m\u001b[1;33m\u001b[0m\u001b[0m\n\u001b[0;32m     40\u001b[0m         \u001b[0mfirefox_profile\u001b[0m\u001b[1;33m.\u001b[0m\u001b[0mset_preference\u001b[0m\u001b[1;33m(\u001b[0m\u001b[1;34m\"network.dns.disableIPv6\"\u001b[0m\u001b[1;33m,\u001b[0m \u001b[1;32mFalse\u001b[0m\u001b[1;33m)\u001b[0m\u001b[1;33m\u001b[0m\u001b[1;33m\u001b[0m\u001b[0m\n",
      "\u001b[1;32m~\\Anaconda3\\envs\\BootcampEnv\\lib\\site-packages\\selenium\\webdriver\\firefox\\firefox_profile.py\u001b[0m in \u001b[0;36m__init__\u001b[1;34m(self, profile_directory)\u001b[0m\n\u001b[0;32m     78\u001b[0m             \u001b[0mnewprof\u001b[0m \u001b[1;33m=\u001b[0m \u001b[0mos\u001b[0m\u001b[1;33m.\u001b[0m\u001b[0mpath\u001b[0m\u001b[1;33m.\u001b[0m\u001b[0mjoin\u001b[0m\u001b[1;33m(\u001b[0m\u001b[0mself\u001b[0m\u001b[1;33m.\u001b[0m\u001b[0mtempfolder\u001b[0m\u001b[1;33m,\u001b[0m \u001b[1;34m\"webdriver-py-profilecopy\"\u001b[0m\u001b[1;33m)\u001b[0m\u001b[1;33m\u001b[0m\u001b[1;33m\u001b[0m\u001b[0m\n\u001b[0;32m     79\u001b[0m             shutil.copytree(self.profile_dir, newprof,\n\u001b[1;32m---> 80\u001b[1;33m                             ignore=shutil.ignore_patterns(\"parent.lock\", \"lock\", \".parentlock\"))\n\u001b[0m\u001b[0;32m     81\u001b[0m             \u001b[0mself\u001b[0m\u001b[1;33m.\u001b[0m\u001b[0mprofile_dir\u001b[0m \u001b[1;33m=\u001b[0m \u001b[0mnewprof\u001b[0m\u001b[1;33m\u001b[0m\u001b[1;33m\u001b[0m\u001b[0m\n\u001b[0;32m     82\u001b[0m             \u001b[0mos\u001b[0m\u001b[1;33m.\u001b[0m\u001b[0mchmod\u001b[0m\u001b[1;33m(\u001b[0m\u001b[0mself\u001b[0m\u001b[1;33m.\u001b[0m\u001b[0mprofile_dir\u001b[0m\u001b[1;33m,\u001b[0m \u001b[1;36m0o755\u001b[0m\u001b[1;33m)\u001b[0m\u001b[1;33m\u001b[0m\u001b[1;33m\u001b[0m\u001b[0m\n",
      "\u001b[1;32m~\\Anaconda3\\envs\\BootcampEnv\\lib\\shutil.py\u001b[0m in \u001b[0;36mcopytree\u001b[1;34m(src, dst, symlinks, ignore, copy_function, ignore_dangling_symlinks)\u001b[0m\n\u001b[0;32m    313\u001b[0m \u001b[1;33m\u001b[0m\u001b[0m\n\u001b[0;32m    314\u001b[0m     \"\"\"\n\u001b[1;32m--> 315\u001b[1;33m     \u001b[0mnames\u001b[0m \u001b[1;33m=\u001b[0m \u001b[0mos\u001b[0m\u001b[1;33m.\u001b[0m\u001b[0mlistdir\u001b[0m\u001b[1;33m(\u001b[0m\u001b[0msrc\u001b[0m\u001b[1;33m)\u001b[0m\u001b[1;33m\u001b[0m\u001b[1;33m\u001b[0m\u001b[0m\n\u001b[0m\u001b[0;32m    316\u001b[0m     \u001b[1;32mif\u001b[0m \u001b[0mignore\u001b[0m \u001b[1;32mis\u001b[0m \u001b[1;32mnot\u001b[0m \u001b[1;32mNone\u001b[0m\u001b[1;33m:\u001b[0m\u001b[1;33m\u001b[0m\u001b[1;33m\u001b[0m\u001b[0m\n\u001b[0;32m    317\u001b[0m         \u001b[0mignored_names\u001b[0m \u001b[1;33m=\u001b[0m \u001b[0mignore\u001b[0m\u001b[1;33m(\u001b[0m\u001b[0msrc\u001b[0m\u001b[1;33m,\u001b[0m \u001b[0mnames\u001b[0m\u001b[1;33m)\u001b[0m\u001b[1;33m\u001b[0m\u001b[1;33m\u001b[0m\u001b[0m\n",
      "\u001b[1;31mTypeError\u001b[0m: listdir: path should be string, bytes, os.PathLike or None, not FirefoxProfile"
     ]
    }
   ],
   "source": [
    "browser = initBrowser2(executable_path2, outputPath)"
   ]
  },
  {
   "cell_type": "code",
   "execution_count": 32,
   "metadata": {},
   "outputs": [],
   "source": [
    "fundsLogin(loginURL, browser)"
   ]
  },
  {
   "cell_type": "code",
   "execution_count": 136,
   "metadata": {},
   "outputs": [],
   "source": [
    "browser.visit(fundsURL)"
   ]
  },
  {
   "cell_type": "code",
   "execution_count": 142,
   "metadata": {},
   "outputs": [],
   "source": [
    "# find the total number of pages\n",
    "def Page(browser):\n",
    "    html = browser.html\n",
    "    soup=bs(html, 'html.parser')\n",
    "    strong=soup.find('strong').text\n",
    "    numpages=int(strong[-2:])\n",
    "    return numpages"
   ]
  },
  {
   "cell_type": "code",
   "execution_count": 143,
   "metadata": {},
   "outputs": [],
   "source": [
    "n=Page(browser)"
   ]
  },
  {
   "cell_type": "code",
   "execution_count": null,
   "metadata": {},
   "outputs": [],
   "source": [
    "#download test for 1 item\n",
    "# csvDownload(sold_history[0], target2, target3)"
   ]
  },
  {
   "cell_type": "code",
   "execution_count": null,
   "metadata": {},
   "outputs": [],
   "source": [
    "# download test + advance page\n",
    "# advancepage=browser.find_by_tag('div[class=\"text-left col-4\"]').find_by_tag('button[class=\"btn btn-secondary\"]').first\n",
    "# target1='button[title=\"Click for sale history.\"]'\n",
    "# target2='button[title=\"Download CSV\"]'\n",
    "# target3='button[aria-label=\"Close\"]'\n",
    "# for page in range(1,13):\n",
    "#     sold_history2=browser.find_by_css(target1)\n",
    "#     for s in sold_history2:\n",
    "#         csvDownload(s, target2, target3)\n",
    "#     advancepage.click()\n",
    "#     time.sleep(.5)"
   ]
  },
  {
   "cell_type": "markdown",
   "metadata": {},
   "source": [
    "# test without download"
   ]
  },
  {
   "cell_type": "code",
   "execution_count": 40,
   "metadata": {},
   "outputs": [],
   "source": [
    "# advancepage=browser.find_by_tag('div[class=\"text-left col-4\"]').find_by_tag('button[class=\"btn btn-secondary\"]').first\n",
    "# target1='button[title=\"Click for sale history.\"]'\n",
    "# target2='button[title=\"Download CSV\"]'\n",
    "# target3='button[aria-label=\"Close\"]'\n",
    "# for page in range(1,13):\n",
    "#     if browser.is_element_visible_by_css(target1, wait_time=25):\n",
    "#         sold_history=browser.find_by_css(target1)\n",
    "#         for s in sold_history:\n",
    "#             try:\n",
    "#                 s.click()\n",
    "#                 export=browser.find_by_css(target2)\n",
    "#                 export.mouse_over()\n",
    "#                 export.click()\n",
    "#                 if browser.is_element_visible_by_css(target3, wait_time=25):\n",
    "#                     try: \n",
    "#                         c=browser.find_by_css(target3)\n",
    "#                         c.mouse_over()\n",
    "#                         c.click()\n",
    "#                     except Exception as e:\n",
    "#                         print(f'\"Close element error on page {page}:\\n{e}')\n",
    "#                 else:\n",
    "#                     print(f'\"Close\" element not visible on page {page}.\\n')\n",
    "#             except Exception as e:\n",
    "#                 print(f'\"Export\" element error on page {page}.\\n{e}')\n",
    "        \n",
    "#     advancepage.click()\n",
    "#     time.sleep(1)\n",
    "#     browser.execute_script(\"window.scrollTo(0, 0);\")\n",
    "# browser.execute_script(\"var message; message= 'Download Complete!'; window.alert(message);\") "
   ]
  },
  {
   "cell_type": "code",
   "execution_count": 41,
   "metadata": {},
   "outputs": [],
   "source": [
    "# Function to download the CSVs\n",
    "def DownlowadCSV(browser):\n",
    "    target1='button[title=\"Click for sale history.\"]'\n",
    "    target2='button[title=\"Download CSV\"]'\n",
    "    target3='button[aria-label=\"Close\"]'\n",
    "    advancepage=browser.find_by_tag('div[class=\"text-left col-4\"]').find_by_tag('button[class=\"btn btn-secondary\"]').first\n",
    "    for page in range(1,13):\n",
    "        if browser.is_element_visible_by_css(target1, wait_time=25):\n",
    "            sold_history=browser.find_by_css(target1)\n",
    "            for s in sold_history:\n",
    "                try:\n",
    "                    s.click()\n",
    "                    if browser.is_element_visible_by_css(target2, wait_time=25):\n",
    "                        try:\n",
    "                            export=browser.find_by_css(target2)\n",
    "                            export.mouse_over()\n",
    "                            export.click()\n",
    "                        except Exception as e:\n",
    "                            print(f'\"Export\" element error on page {page}.\\n{e}')\n",
    "                    else:\n",
    "                        print(f'\"Export\" element not visible on page {page}.\\n')\n",
    "                    if browser.is_element_visible_by_css(target3, wait_time=25):\n",
    "                        try: \n",
    "                            c=browser.find_by_css(target3)\n",
    "                            c.mouse_over()\n",
    "                            c.click()\n",
    "                        except Exception as e:\n",
    "                            print(f'\"Close element error on page {page}:\\n{e}')\n",
    "                    else:\n",
    "                        print(f'\"Close\" element not visible on page {page}.\\n')\n",
    "                               \n",
    "                except Exception as e:   \n",
    "                    print(f'\"Sold History\" element error on page {page}.\\n{e}')\n",
    "                        \n",
    "                                  \n",
    "            advancepage.click()            \n",
    "            time.sleep(1)\n",
    "            browser.execute_script(\"window.scrollTo(0, 0);\")\n",
    "            if (page % 2) == 0:\n",
    "                time.sleep(4)\n",
    "            else:\n",
    "                time.sleep(2)\n",
    "        "
   ]
  },
  {
   "cell_type": "code",
   "execution_count": 42,
   "metadata": {},
   "outputs": [],
   "source": [
    "def OneTopShot(url1, url2):\n",
    "    browser = initBrowser(executable_path, outputPath, False)\n",
    "    fundsLogin(url1, browser)\n",
    "    time.sleep(1)\n",
    "    browser.visit(url2)\n",
    "    time.sleep(1)\n",
    "    start=time.time()\n",
    "    DownlowadCSV(browser)\n",
    "    end=time.time()\n",
    "    totalseconds=end-start\n",
    "    total=time.gmtime(totalseconds)\n",
    "    js = f'var message; message= \"Download Complete in {total[4]} minutes {total[5]} seconds\"; window.alert(message);'\n",
    "    browser.execute_script(js)"
   ]
  },
  {
   "cell_type": "code",
   "execution_count": null,
   "metadata": {},
   "outputs": [],
   "source": [
    "OneTopShot(loginURL, fundsURL)\n",
    "    "
   ]
  },
  {
   "cell_type": "code",
   "execution_count": 46,
   "metadata": {},
   "outputs": [],
   "source": [
    "browser.quit()"
   ]
  },
  {
   "cell_type": "code",
   "execution_count": null,
   "metadata": {},
   "outputs": [],
   "source": []
  }
 ],
 "metadata": {
  "kernelspec": {
   "display_name": "Python 3",
   "language": "python",
   "name": "python3"
  },
  "language_info": {
   "codemirror_mode": {
    "name": "ipython",
    "version": 3
   },
   "file_extension": ".py",
   "mimetype": "text/x-python",
   "name": "python",
   "nbconvert_exporter": "python",
   "pygments_lexer": "ipython3",
   "version": "3.6.10"
  }
 },
 "nbformat": 4,
 "nbformat_minor": 4
}
