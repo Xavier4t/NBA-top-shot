{
 "cells": [
  {
   "cell_type": "markdown",
   "metadata": {},
   "source": [
    "# This notebook is for testing lines of code. Use Onetopshop.py to scrap the web."
   ]
  },
  {
   "cell_type": "code",
   "execution_count": 127,
   "metadata": {},
   "outputs": [],
   "source": [
    "import os\n",
    "from dotenv import load_dotenv\n",
    "from splinter import Browser\n",
    "import time\n",
    "from selenium import webdriver\n",
    "from bs4 import BeautifulSoup as bs"
   ]
  },
  {
   "cell_type": "code",
   "execution_count": 128,
   "metadata": {},
   "outputs": [],
   "source": [
    "seconds = time.time()\n",
    "today=time.ctime(seconds)\n",
    "date = today.replace(\" \", \"_\")\n",
    "outputfolder = date.replace(\":\", \".\")"
   ]
  },
  {
   "cell_type": "code",
   "execution_count": 129,
   "metadata": {},
   "outputs": [],
   "source": [
    "# Create output folder for the csv files, a unique folder name based on the current time.\n",
    "parent_dir = os.getcwd()\n",
    "outputPath = os.path.join(parent_dir, outputfolder)\n",
    "try:\n",
    "    os.mkdir(outputPath)\n",
    "except:\n",
    "    print('Folder already exists.')"
   ]
  },
  {
   "cell_type": "code",
   "execution_count": 130,
   "metadata": {},
   "outputs": [],
   "source": [
    "load_dotenv()\n",
    "executable_path=os.getenv('executable_path')\n",
    "User=os.getenv('funds_User')\n",
    "Password=os.getenv('funds_Pass')"
   ]
  },
  {
   "cell_type": "code",
   "execution_count": 131,
   "metadata": {},
   "outputs": [],
   "source": [
    "loginURL='https://www.addmorefunds.com/login/'\n",
    "fundsURL='https://www.addmorefunds.com/nft/nba-top-shot/'"
   ]
  },
  {
   "cell_type": "code",
   "execution_count": 132,
   "metadata": {},
   "outputs": [],
   "source": [
    "# Function to initilize browser\n",
    "def initBrowser(exPath, outputPath, headless=False):\n",
    "    exPath = {\"executable_path\": exPath}\n",
    "    options = webdriver.ChromeOptions()\n",
    "    prefs = {\n",
    "        \"download.default_directory\" : outputPath,\n",
    "        \"download.directory_upgrade\": \"true\",\n",
    "        \"download.prompt_for_download\": \"false\",\n",
    "        \"disable-popup-blocking\": \"true\"\n",
    "\n",
    "    }\n",
    "    options.add_experimental_option(\"prefs\", prefs)\n",
    "    options.add_argument(\"--disable-infobars\")\n",
    "    options.add_argument(\"--start-maximized\")\n",
    "    \n",
    "    return Browser(\"chrome\", **exPath, headless=headless, options=options)"
   ]
  },
  {
   "cell_type": "code",
   "execution_count": 133,
   "metadata": {},
   "outputs": [],
   "source": [
    "# Log In function\n",
    "def fundsLogin(url,browser):\n",
    "    browser.visit(url)\n",
    "    browser.fill('username', User)\n",
    "    browser.fill('password', Password)\n",
    "    browser.find_by_value('Sign In').click() "
   ]
  },
  {
   "cell_type": "code",
   "execution_count": 47,
   "metadata": {},
   "outputs": [],
   "source": [
    "# download test function\n",
    "# def csvDownload(soldHistory, target2, target3):\n",
    "#     soldHistory.click()\n",
    "#     exportfile=browser.find_by_css(target2)\n",
    "#     exportfile.mouse_over()\n",
    "#     exportfile.click()\n",
    "#     close = browser.find_by_css(target3)\n",
    "#     close.mouse_over()\n",
    "#     close.click()"
   ]
  },
  {
   "cell_type": "code",
   "execution_count": 134,
   "metadata": {},
   "outputs": [],
   "source": [
    "browser = initBrowser(executable_path, outputPath, False)"
   ]
  },
  {
   "cell_type": "code",
   "execution_count": 135,
   "metadata": {},
   "outputs": [],
   "source": [
    "fundsLogin(loginURL, browser)"
   ]
  },
  {
   "cell_type": "code",
   "execution_count": 136,
   "metadata": {},
   "outputs": [],
   "source": [
    "browser.visit(fundsURL)"
   ]
  },
  {
   "cell_type": "code",
   "execution_count": 142,
   "metadata": {},
   "outputs": [],
   "source": [
    "# find the total number of pages\n",
    "def Page(browser):\n",
    "    html = browser.html\n",
    "    soup=bs(html, 'html.parser')\n",
    "    strong=soup.find('strong').text\n",
    "    numpages=int(strong[-2:])\n",
    "    return numpages"
   ]
  },
  {
   "cell_type": "code",
   "execution_count": 143,
   "metadata": {},
   "outputs": [],
   "source": [
    "n=Page(browser)"
   ]
  },
  {
   "cell_type": "code",
   "execution_count": null,
   "metadata": {},
   "outputs": [],
   "source": [
    "#download test for 1 item\n",
    "# csvDownload(sold_history[0], target2, target3)"
   ]
  },
  {
   "cell_type": "code",
   "execution_count": null,
   "metadata": {},
   "outputs": [],
   "source": [
    "# download test + advance page\n",
    "# advancepage=browser.find_by_tag('div[class=\"text-left col-4\"]').find_by_tag('button[class=\"btn btn-secondary\"]').first\n",
    "# target1='button[title=\"Click for sale history.\"]'\n",
    "# target2='button[title=\"Download CSV\"]'\n",
    "# target3='button[aria-label=\"Close\"]'\n",
    "# for page in range(1,13):\n",
    "#     sold_history2=browser.find_by_css(target1)\n",
    "#     for s in sold_history2:\n",
    "#         csvDownload(s, target2, target3)\n",
    "#     advancepage.click()\n",
    "#     time.sleep(.5)"
   ]
  },
  {
   "cell_type": "markdown",
   "metadata": {},
   "source": [
    "# test without download"
   ]
  },
  {
   "cell_type": "code",
   "execution_count": 40,
   "metadata": {},
   "outputs": [],
   "source": [
    "# advancepage=browser.find_by_tag('div[class=\"text-left col-4\"]').find_by_tag('button[class=\"btn btn-secondary\"]').first\n",
    "# target1='button[title=\"Click for sale history.\"]'\n",
    "# target2='button[title=\"Download CSV\"]'\n",
    "# target3='button[aria-label=\"Close\"]'\n",
    "# for page in range(1,13):\n",
    "#     if browser.is_element_visible_by_css(target1, wait_time=25):\n",
    "#         sold_history=browser.find_by_css(target1)\n",
    "#         for s in sold_history:\n",
    "#             try:\n",
    "#                 s.click()\n",
    "#                 export=browser.find_by_css(target2)\n",
    "#                 export.mouse_over()\n",
    "#                 export.click()\n",
    "#                 if browser.is_element_visible_by_css(target3, wait_time=25):\n",
    "#                     try: \n",
    "#                         c=browser.find_by_css(target3)\n",
    "#                         c.mouse_over()\n",
    "#                         c.click()\n",
    "#                     except Exception as e:\n",
    "#                         print(f'\"Close element error on page {page}:\\n{e}')\n",
    "#                 else:\n",
    "#                     print(f'\"Close\" element not visible on page {page}.\\n')\n",
    "#             except Exception as e:\n",
    "#                 print(f'\"Export\" element error on page {page}.\\n{e}')\n",
    "        \n",
    "#     advancepage.click()\n",
    "#     time.sleep(1)\n",
    "#     browser.execute_script(\"window.scrollTo(0, 0);\")\n",
    "# browser.execute_script(\"var message; message= 'Download Complete!'; window.alert(message);\") "
   ]
  },
  {
   "cell_type": "code",
   "execution_count": 41,
   "metadata": {},
   "outputs": [],
   "source": [
    "# Function to download the CSVs\n",
    "def DownlowadCSV(browser):\n",
    "    target1='button[title=\"Click for sale history.\"]'\n",
    "    target2='button[title=\"Download CSV\"]'\n",
    "    target3='button[aria-label=\"Close\"]'\n",
    "    advancepage=browser.find_by_tag('div[class=\"text-left col-4\"]').find_by_tag('button[class=\"btn btn-secondary\"]').first\n",
    "    for page in range(1,13):\n",
    "        if browser.is_element_visible_by_css(target1, wait_time=25):\n",
    "            sold_history=browser.find_by_css(target1)\n",
    "            for s in sold_history:\n",
    "                try:\n",
    "                    s.click()\n",
    "                    if browser.is_element_visible_by_css(target2, wait_time=25):\n",
    "                        try:\n",
    "                            export=browser.find_by_css(target2)\n",
    "                            export.mouse_over()\n",
    "                            export.click()\n",
    "                        except Exception as e:\n",
    "                            print(f'\"Export\" element error on page {page}.\\n{e}')\n",
    "                    else:\n",
    "                        print(f'\"Export\" element not visible on page {page}.\\n')\n",
    "                    if browser.is_element_visible_by_css(target3, wait_time=25):\n",
    "                        try: \n",
    "                            c=browser.find_by_css(target3)\n",
    "                            c.mouse_over()\n",
    "                            c.click()\n",
    "                        except Exception as e:\n",
    "                            print(f'\"Close element error on page {page}:\\n{e}')\n",
    "                    else:\n",
    "                        print(f'\"Close\" element not visible on page {page}.\\n')\n",
    "                               \n",
    "                except Exception as e:   \n",
    "                    print(f'\"Sold History\" element error on page {page}.\\n{e}')\n",
    "                        \n",
    "                                  \n",
    "            advancepage.click()            \n",
    "            time.sleep(1)\n",
    "            browser.execute_script(\"window.scrollTo(0, 0);\")\n",
    "            if (page % 2) == 0:\n",
    "                time.sleep(4)\n",
    "            else:\n",
    "                time.sleep(2)\n",
    "        "
   ]
  },
  {
   "cell_type": "code",
   "execution_count": 42,
   "metadata": {},
   "outputs": [],
   "source": [
    "def OneTopShot(url1, url2):\n",
    "    browser = initBrowser(executable_path, outputPath, False)\n",
    "    fundsLogin(url1, browser)\n",
    "    time.sleep(1)\n",
    "    browser.visit(url2)\n",
    "    time.sleep(1)\n",
    "    start=time.time()\n",
    "    DownlowadCSV(browser)\n",
    "    end=time.time()\n",
    "    totalseconds=end-start\n",
    "    total=time.gmtime(totalseconds)\n",
    "    js = f'var message; message= \"Download Complete in {total[4]} minutes {total[5]} seconds\"; window.alert(message);'\n",
    "    browser.execute_script(js)"
   ]
  },
  {
   "cell_type": "code",
   "execution_count": null,
   "metadata": {},
   "outputs": [],
   "source": [
    "OneTopShot(loginURL, fundsURL)\n",
    "    "
   ]
  },
  {
   "cell_type": "code",
   "execution_count": 145,
   "metadata": {},
   "outputs": [],
   "source": [
    "browser.quit()"
   ]
  },
  {
   "cell_type": "code",
   "execution_count": null,
   "metadata": {},
   "outputs": [],
   "source": []
  }
 ],
 "metadata": {
  "kernelspec": {
   "display_name": "Python 3",
   "language": "python",
   "name": "python3"
  },
  "language_info": {
   "codemirror_mode": {
    "name": "ipython",
    "version": 3
   },
   "file_extension": ".py",
   "mimetype": "text/x-python",
   "name": "python",
   "nbconvert_exporter": "python",
   "pygments_lexer": "ipython3",
   "version": "3.6.10"
  }
 },
 "nbformat": 4,
 "nbformat_minor": 4
}
