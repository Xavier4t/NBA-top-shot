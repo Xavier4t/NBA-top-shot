{
 "cells": [
  {
   "cell_type": "code",
   "execution_count": 66,
   "metadata": {},
   "outputs": [],
   "source": [
    "import os\n",
    "from dotenv import load_dotenv\n",
    "from splinter import Browser\n",
    "import time\n",
    "from selenium import webdriver\n",
    "from bs4 import BeautifulSoup as bs"
   ]
  },
  {
   "cell_type": "code",
   "execution_count": 38,
   "metadata": {},
   "outputs": [],
   "source": [
    "seconds = time.time()\n",
    "today=time.ctime(seconds)\n",
    "date = today.replace(\" \", \"_\")\n",
    "outputfolder = date.replace(\":\", \".\")"
   ]
  },
  {
   "cell_type": "code",
   "execution_count": 39,
   "metadata": {},
   "outputs": [],
   "source": [
    "# Create output folder for the csv files, a unique folder name based on the current time.\n",
    "parent_dir = os.getcwd()\n",
    "outputPath = os.path.join(parent_dir, outputfolder)\n",
    "try:\n",
    "    os.mkdir(outputPath)\n",
    "except:\n",
    "    print('Folder already exists.')"
   ]
  },
  {
   "cell_type": "code",
   "execution_count": 43,
   "metadata": {},
   "outputs": [],
   "source": [
    "load_dotenv()\n",
    "executable_path=os.getenv('executable_path')\n",
    "User=os.getenv('funds_User')\n",
    "Password=os.getenv('funds_Pass')"
   ]
  },
  {
   "cell_type": "code",
   "execution_count": 44,
   "metadata": {},
   "outputs": [],
   "source": [
    "loginURL='https://www.addmorefunds.com/login/'\n",
    "fundsURL='https://www.addmorefunds.com/nft/nba-top-shot/'"
   ]
  },
  {
   "cell_type": "code",
   "execution_count": 45,
   "metadata": {},
   "outputs": [],
   "source": [
    "# Function to initilize browser\n",
    "def initBrowser(exPath, outputPath, headless=False):\n",
    "    exPath = {\"executable_path\": exPath}\n",
    "    options = webdriver.ChromeOptions()\n",
    "    prefs = {\n",
    "        \"download.default_directory\" : outputPath,\n",
    "        \"download.directory_upgrade\": \"true\",\n",
    "        \"download.prompt_for_download\": \"false\",\n",
    "        \"disable-popup-blocking\": \"true\"\n",
    "\n",
    "    }\n",
    "    options.add_experimental_option(\"prefs\", prefs)\n",
    "    options.add_argument(\"--disable-infobars\")\n",
    "    options.add_argument(\"--start-maximized\")\n",
    "    \n",
    "    return Browser(\"chrome\", **exPath, headless=headless, options=options)"
   ]
  },
  {
   "cell_type": "code",
   "execution_count": 46,
   "metadata": {},
   "outputs": [],
   "source": [
    "# Log In function\n",
    "def fundsLogin(url,browser):\n",
    "    browser.visit(url)\n",
    "    browser.fill('username', User)\n",
    "    browser.fill('password', Password)\n",
    "    browser.find_by_value('Sign In').click() "
   ]
  },
  {
   "cell_type": "code",
   "execution_count": 47,
   "metadata": {},
   "outputs": [],
   "source": [
    "# download test function\n",
    "# def csvDownload(soldHistory, target2, target3):\n",
    "#     soldHistory.click()\n",
    "#     exportfile=browser.find_by_css(target2)\n",
    "#     exportfile.mouse_over()\n",
    "#     exportfile.click()\n",
    "#     close = browser.find_by_css(target3)\n",
    "#     close.mouse_over()\n",
    "#     close.click()"
   ]
  },
  {
   "cell_type": "code",
   "execution_count": 48,
   "metadata": {},
   "outputs": [],
   "source": [
    "browser = initBrowser(executable_path, outputPath, False)"
   ]
  },
  {
   "cell_type": "code",
   "execution_count": 49,
   "metadata": {},
   "outputs": [],
   "source": [
    "fundsLogin(loginURL, browser)"
   ]
  },
  {
   "cell_type": "code",
   "execution_count": 50,
   "metadata": {},
   "outputs": [],
   "source": [
    "browser.visit(fundsURL)"
   ]
  },
  {
   "cell_type": "code",
   "execution_count": 67,
   "metadata": {},
   "outputs": [],
   "source": [
    "html = browser.html\n",
    "soup=bs(html, 'html.parser')"
   ]
  },
  {
   "cell_type": "code",
   "execution_count": 76,
   "metadata": {},
   "outputs": [],
   "source": [
    "page=soup.find('strong').text"
   ]
  },
  {
   "cell_type": "code",
   "execution_count": 78,
   "metadata": {},
   "outputs": [],
   "source": [
    "p = int(page[-2:])"
   ]
  },
  {
   "cell_type": "code",
   "execution_count": 79,
   "metadata": {},
   "outputs": [
    {
     "name": "stdout",
     "output_type": "stream",
     "text": [
      "1\n",
      "2\n",
      "3\n",
      "4\n",
      "5\n",
      "6\n",
      "7\n",
      "8\n",
      "9\n",
      "10\n",
      "11\n",
      "12\n"
     ]
    }
   ],
   "source": [
    "for i in range (1,p):\n",
    "    print(i)"
   ]
  },
  {
   "cell_type": "code",
   "execution_count": null,
   "metadata": {},
   "outputs": [],
   "source": [
    "#download test for 1 item\n",
    "# csvDownload(sold_history[0], target2, target3)"
   ]
  },
  {
   "cell_type": "code",
   "execution_count": null,
   "metadata": {},
   "outputs": [],
   "source": [
    "# download test + advance page\n",
    "# advancepage=browser.find_by_tag('div[class=\"text-left col-4\"]').find_by_tag('button[class=\"btn btn-secondary\"]').first\n",
    "# target1='button[title=\"Click for sale history.\"]'\n",
    "# target2='button[title=\"Download CSV\"]'\n",
    "# target3='button[aria-label=\"Close\"]'\n",
    "# for page in range(1,13):\n",
    "#     sold_history2=browser.find_by_css(target1)\n",
    "#     for s in sold_history2:\n",
    "#         csvDownload(s, target2, target3)\n",
    "#     advancepage.click()\n",
    "#     time.sleep(.5)"
   ]
  },
  {
   "cell_type": "markdown",
   "metadata": {},
   "source": [
    "# test without download"
   ]
  },
  {
   "cell_type": "code",
   "execution_count": 40,
   "metadata": {},
   "outputs": [],
   "source": [
    "# advancepage=browser.find_by_tag('div[class=\"text-left col-4\"]').find_by_tag('button[class=\"btn btn-secondary\"]').first\n",
    "# target1='button[title=\"Click for sale history.\"]'\n",
    "# target2='button[title=\"Download CSV\"]'\n",
    "# target3='button[aria-label=\"Close\"]'\n",
    "# for page in range(1,13):\n",
    "#     if browser.is_element_visible_by_css(target1, wait_time=25):\n",
    "#         sold_history=browser.find_by_css(target1)\n",
    "#         for s in sold_history:\n",
    "#             try:\n",
    "#                 s.click()\n",
    "#                 export=browser.find_by_css(target2)\n",
    "#                 export.mouse_over()\n",
    "#                 export.click()\n",
    "#                 if browser.is_element_visible_by_css(target3, wait_time=25):\n",
    "#                     try: \n",
    "#                         c=browser.find_by_css(target3)\n",
    "#                         c.mouse_over()\n",
    "#                         c.click()\n",
    "#                     except Exception as e:\n",
    "#                         print(f'\"Close element error on page {page}:\\n{e}')\n",
    "#                 else:\n",
    "#                     print(f'\"Close\" element not visible on page {page}.\\n')\n",
    "#             except Exception as e:\n",
    "#                 print(f'\"Export\" element error on page {page}.\\n{e}')\n",
    "        \n",
    "#     advancepage.click()\n",
    "#     time.sleep(1)\n",
    "#     browser.execute_script(\"window.scrollTo(0, 0);\")\n",
    "# browser.execute_script(\"var message; message= 'Download Complete!'; window.alert(message);\") "
   ]
  },
  {
   "cell_type": "code",
   "execution_count": 41,
   "metadata": {},
   "outputs": [],
   "source": [
    "# Function to download the CSVs\n",
    "def DownlowadCSV(browser):\n",
    "    target1='button[title=\"Click for sale history.\"]'\n",
    "    target2='button[title=\"Download CSV\"]'\n",
    "    target3='button[aria-label=\"Close\"]'\n",
    "    advancepage=browser.find_by_tag('div[class=\"text-left col-4\"]').find_by_tag('button[class=\"btn btn-secondary\"]').first\n",
    "    for page in range(1,13):\n",
    "        if browser.is_element_visible_by_css(target1, wait_time=25):\n",
    "            sold_history=browser.find_by_css(target1)\n",
    "            for s in sold_history:\n",
    "                try:\n",
    "                    s.click()\n",
    "                    if browser.is_element_visible_by_css(target2, wait_time=25):\n",
    "                        try:\n",
    "                            export=browser.find_by_css(target2)\n",
    "                            export.mouse_over()\n",
    "                            export.click()\n",
    "                        except Exception as e:\n",
    "                            print(f'\"Export\" element error on page {page}.\\n{e}')\n",
    "                    else:\n",
    "                        print(f'\"Export\" element not visible on page {page}.\\n')\n",
    "                    if browser.is_element_visible_by_css(target3, wait_time=25):\n",
    "                        try: \n",
    "                            c=browser.find_by_css(target3)\n",
    "                            c.mouse_over()\n",
    "                            c.click()\n",
    "                        except Exception as e:\n",
    "                            print(f'\"Close element error on page {page}:\\n{e}')\n",
    "                    else:\n",
    "                        print(f'\"Close\" element not visible on page {page}.\\n')\n",
    "                               \n",
    "                except Exception as e:   \n",
    "                    print(f'\"Sold History\" element error on page {page}.\\n{e}')\n",
    "                        \n",
    "                                  \n",
    "            advancepage.click()            \n",
    "            time.sleep(1)\n",
    "            browser.execute_script(\"window.scrollTo(0, 0);\")\n",
    "            if (page % 2) == 0:\n",
    "                time.sleep(4)\n",
    "            else:\n",
    "                time.sleep(2)\n",
    "        "
   ]
  },
  {
   "cell_type": "code",
   "execution_count": 42,
   "metadata": {},
   "outputs": [],
   "source": [
    "def OneTopShot(url1, url2):\n",
    "    browser = initBrowser(executable_path, outputPath, False)\n",
    "    fundsLogin(url1, browser)\n",
    "    time.sleep(1)\n",
    "    browser.visit(url2)\n",
    "    time.sleep(1)\n",
    "    DownlowadCSV(browser)\n",
    "    browser.execute_script(\"var message; message= 'Download Complete!'; window.alert(message);\")"
   ]
  },
  {
   "cell_type": "code",
   "execution_count": null,
   "metadata": {},
   "outputs": [],
   "source": [
    "OneTopShot(loginURL, fundsURL)\n",
    "    "
   ]
  }
 ],
 "metadata": {
  "kernelspec": {
   "display_name": "Python 3",
   "language": "python",
   "name": "python3"
  },
  "language_info": {
   "codemirror_mode": {
    "name": "ipython",
    "version": 3
   },
   "file_extension": ".py",
   "mimetype": "text/x-python",
   "name": "python",
   "nbconvert_exporter": "python",
   "pygments_lexer": "ipython3",
   "version": "3.6.10"
  }
 },
 "nbformat": 4,
 "nbformat_minor": 4
}
