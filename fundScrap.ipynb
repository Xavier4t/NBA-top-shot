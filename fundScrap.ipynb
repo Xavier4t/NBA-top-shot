{
 "cells": [
  {
   "cell_type": "code",
   "execution_count": 1,
   "metadata": {},
   "outputs": [],
   "source": [
    "import os\n",
    "import pandas as pd\n",
    "import requests\n",
    "from dotenv import load_dotenv\n",
    "from bs4 import BeautifulSoup as bs\n",
    "from splinter import Browser\n",
    "from urllib.parse import urljoin\n",
    "from pprint import pprint\n",
    "import time\n",
    "from selenium import webdriver"
   ]
  },
  {
   "cell_type": "code",
   "execution_count": 2,
   "metadata": {},
   "outputs": [],
   "source": [
    "load_dotenv()\n",
    "executable_path=os.getenv('executable_path')\n",
    "User=os.getenv('funds_User')\n",
    "Password=os.getenv('funds_Pass')"
   ]
  },
  {
   "cell_type": "code",
   "execution_count": 3,
   "metadata": {},
   "outputs": [
    {
     "name": "stdout",
     "output_type": "stream",
     "text": [
      "Folder already exists.\n"
     ]
    }
   ],
   "source": [
    "parent_dir = os.getcwd()\n",
    "outputPath = os.path.join(parent_dir, 'csv')\n",
    "\n",
    "try:\n",
    "    os.mkdir(outputPath)\n",
    "except:\n",
    "    print('Folder already exists.')"
   ]
  },
  {
   "cell_type": "code",
   "execution_count": 4,
   "metadata": {},
   "outputs": [],
   "source": [
    "# Function to initilize browser\n",
    "def initBrowser(exPath, outputPath, headless=False):\n",
    "    exPath = {\"executable_path\": exPath}\n",
    "    options = webdriver.ChromeOptions()\n",
    "    prefs = {\n",
    "        \"download.default_directory\" : outputPath,\n",
    "        \"download.directory_upgrade\": \"true\",\n",
    "        \"download.prompt_for_download\": \"false\",\n",
    "        \"disable-popup-blocking\": \"true\"\n",
    "\n",
    "    }\n",
    "    options.add_experimental_option(\"prefs\", prefs)\n",
    "    options.add_argument(\"--disable-infobars\")\n",
    "    options.add_argument(\"window-size=1200x600\")\n",
    "    \n",
    "    return Browser(\"chrome\", **exPath, headless=headless, options=options)"
   ]
  },
  {
   "cell_type": "code",
   "execution_count": 5,
   "metadata": {},
   "outputs": [],
   "source": [
    "loginURL='https://www.addmorefunds.com/login/'\n",
    "fundsURL='https://www.addmorefunds.com/nft/nba-top-shot/'"
   ]
  },
  {
   "cell_type": "code",
   "execution_count": 6,
   "metadata": {},
   "outputs": [],
   "source": [
    "browser = initBrowser(executable_path, outputPath, False)"
   ]
  },
  {
   "cell_type": "code",
   "execution_count": 7,
   "metadata": {},
   "outputs": [],
   "source": [
    "def fundsLogin(url,browser):\n",
    "    browser.visit(url)\n",
    "    browser.fill('username', User)\n",
    "    browser.fill('password', Password)\n",
    "    browser.find_by_value('Sign In').click() "
   ]
  },
  {
   "cell_type": "code",
   "execution_count": 8,
   "metadata": {},
   "outputs": [],
   "source": [
    "fundsLogin(loginURL, browser)"
   ]
  },
  {
   "cell_type": "code",
   "execution_count": 17,
   "metadata": {},
   "outputs": [],
   "source": [
    "browser.visit(fundsURL)"
   ]
  },
  {
   "cell_type": "code",
   "execution_count": null,
   "metadata": {},
   "outputs": [],
   "source": [
    "# target1='button[class=\"ml-3 pb-0 pt-0 btn btn-secondary btn-sm\"]'\n",
    "target1='button[title=\"Click for sale history.\"]'\n",
    "target2='button[title=\"Download CSV\"]'\n",
    "target3='button[aria-label=\"Close\"]'\n",
    "# sold_history=browser.find_by_tag(target1)\n",
    "sold_history=browser.find_by_css(target1)"
   ]
  },
  {
   "cell_type": "markdown",
   "metadata": {},
   "source": [
    "sold=[]\n",
    "for s in sold_history:\n",
    "    sold.append(s.value)\n",
    "print(sold)"
   ]
  },
  {
   "cell_type": "markdown",
   "metadata": {},
   "source": [
    "if browser.find_by_tag(target).value == sold[0]:\n",
    "    iframe = browser.find_by_tag(target)\n",
    "    iframe.click()\n",
    "    exportfile=browser.find_by_tag(target2)\n",
    "    exportfile.mouse_over()\n",
    "    exportfile.click()\n",
    "    close = browser.find_by_css(target3)\n",
    "    close.mouse_over()\n",
    "    close.click()"
   ]
  },
  {
   "cell_type": "code",
   "execution_count": null,
   "metadata": {},
   "outputs": [],
   "source": [
    "def csvDownload(soldHistory, target2, target3):\n",
    "    soldHistory.click()\n",
    "    exportfile=browser.find_by_css(target2)\n",
    "    exportfile.mouse_over()\n",
    "    exportfile.click()\n",
    "    close = browser.find_by_css(target3)\n",
    "    close.mouse_over()\n",
    "    close.click()"
   ]
  },
  {
   "cell_type": "code",
   "execution_count": null,
   "metadata": {},
   "outputs": [],
   "source": [
    "#download test\n",
    "csvDownload(sold_history[0], target2, target3)"
   ]
  },
  {
   "cell_type": "markdown",
   "metadata": {},
   "source": [
    "#bulk download test for page 1\n",
    "for s in sold_history:\n",
    "    csvDownload(s, target2, target3)"
   ]
  },
  {
   "cell_type": "markdown",
   "metadata": {},
   "source": [
    "pageTarget = 'div[class=\"text-left col-4\"]'\n",
    "advancepage=browser.find_by_tag(pageTarget).find_by_tag('button[class=\"btn btn-secondary\"]').first\n",
    "advancepage.click()"
   ]
  },
  {
   "cell_type": "code",
   "execution_count": null,
   "metadata": {},
   "outputs": [],
   "source": [
    "advancepage=browser.find_by_tag('div[class=\"text-left col-4\"]').find_by_tag('button[class=\"btn btn-secondary\"]').first\n",
    "target1='button[title=\"Click for sale history.\"]'\n",
    "target2='button[title=\"Download CSV\"]'\n",
    "target3='button[aria-label=\"Close\"]'\n",
    "for page in range(1,13):\n",
    "    sold_history2=browser.find_by_css(target1)\n",
    "    for s in sold_history2:\n",
    "        csvDownload(s, target2, target3)\n",
    "    advancepage.click()\n",
    "    time.sleep(.5)\n",
    "    "
   ]
  },
  {
   "cell_type": "markdown",
   "metadata": {},
   "source": [
    "# test without download"
   ]
  },
  {
   "cell_type": "code",
   "execution_count": 18,
   "metadata": {},
   "outputs": [
    {
     "name": "stdout",
     "output_type": "stream",
     "text": [
      "\"Export\" element error on page 4.\n",
      "no elements could be found with css \"button[title=\"Download CSV\"]\"\n"
     ]
    }
   ],
   "source": [
    "advancepage=browser.find_by_tag('div[class=\"text-left col-4\"]').find_by_tag('button[class=\"btn btn-secondary\"]').first\n",
    "target1='button[title=\"Click for sale history.\"]'\n",
    "target2='button[title=\"Download CSV\"]'\n",
    "target3='button[aria-label=\"Close\"]'\n",
    "for page in range(1,13):\n",
    "    if browser.is_element_visible_by_css(target1, wait_time=25):\n",
    "        sold_history=browser.find_by_css(target1)\n",
    "        for s in sold_history:\n",
    "            try:\n",
    "                s.click()\n",
    "                exp=browser.find_by_css(target2)\n",
    "                exp.mouse_over()\n",
    "                if browser.is_element_visible_by_css(target3, wait_time=25):\n",
    "                    try: \n",
    "                        c=browser.find_by_css(target3)\n",
    "                        c.mouse_over()\n",
    "                        c.click()\n",
    "                    except Exception as e:\n",
    "                        print(f'\"Close element error on page {page}:\\n{e}')\n",
    "                else:\n",
    "                    prin(f'\"Close\" element not visible on page {page}.\\n')\n",
    "            except Exception as e:\n",
    "                print(f'\"Export\" element error on page {page}.\\n{e}')\n",
    "        \n",
    "    advancepage.click()\n",
    "    time.sleep(1)\n",
    "    browser.execute_script(\"window.scrollTo(0, 0);\")"
   ]
  },
  {
   "cell_type": "code",
   "execution_count": null,
   "metadata": {},
   "outputs": [],
   "source": []
  },
  {
   "cell_type": "code",
   "execution_count": null,
   "metadata": {},
   "outputs": [],
   "source": [
    "browser.quit()"
   ]
  },
  {
   "cell_type": "code",
   "execution_count": null,
   "metadata": {},
   "outputs": [],
   "source": []
  }
 ],
 "metadata": {
  "kernelspec": {
   "display_name": "Python 3",
   "language": "python",
   "name": "python3"
  },
  "language_info": {
   "codemirror_mode": {
    "name": "ipython",
    "version": 3
   },
   "file_extension": ".py",
   "mimetype": "text/x-python",
   "name": "python",
   "nbconvert_exporter": "python",
   "pygments_lexer": "ipython3",
   "version": "3.6.10"
  }
 },
 "nbformat": 4,
 "nbformat_minor": 4
}
